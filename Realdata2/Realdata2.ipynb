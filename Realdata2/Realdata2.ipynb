{
 "cells": [
  {
   "cell_type": "code",
   "execution_count": 1,
   "metadata": {},
   "outputs": [],
   "source": [
    "import numpy as np\n",
    "from BORR import Bayesian_Ordinal_CLM_PO\n",
    "import pandas as pd"
   ]
  },
  {
   "cell_type": "code",
   "execution_count": 2,
   "metadata": {},
   "outputs": [],
   "source": [
    "df=pd.read_csv('com.csv')"
   ]
  },
  {
   "cell_type": "code",
   "execution_count": 3,
   "metadata": {},
   "outputs": [],
   "source": [
    "#You should set the Q by yourself\n",
    "\n",
    "Data=df.to_numpy()\n",
    "X_train=Data[:,1:-2]\n",
    "Y_train=Data[:,0].reshape(-1,1)\n",
    "ink1=Data[:,-2]\n",
    "ink2=Data[:,-3]\n",
    "Q1=np.max(ink1)\n",
    "Q2=np.max(ink2)\n",
    "N,P=np.shape(X_train)\n",
    "code=np.ones(N)\n",
    "T=1e6+ink1*1000+ink2\n",
    "T=T-np.min(T)\n",
    "a=np.unique(T).shape\n",
    "b=np.unique(T)\n",
    "\n",
    "for i in range(0,N):\n",
    "    for j in range (0,a[0]):\n",
    "        if T[i]==b[j]:\n",
    "            code[i]=j+1\n",
    "\n",
    "T_train=np.zeros((N,a[0]))\n",
    "for i in range(0,N):\n",
    "    T_train[i,code[i].astype(int)-1]=1"
   ]
  },
  {
   "cell_type": "code",
   "execution_count": 4,
   "metadata": {},
   "outputs": [],
   "source": [
    "beta_sample,b_sample,cutpoints_sample,lam_sample=Bayesian_Ordinal_CLM_PO(Y_train,X_train,T_train,sparse_T=True)"
   ]
  },
  {
   "cell_type": "code",
   "execution_count": 5,
   "metadata": {},
   "outputs": [],
   "source": [
    "beta_mean=np.mean(beta_sample,axis=1)"
   ]
  },
  {
   "cell_type": "code",
   "execution_count": 6,
   "metadata": {},
   "outputs": [],
   "source": [
    "beta_std=np.std(beta_sample,axis=1)"
   ]
  },
  {
   "cell_type": "code",
   "execution_count": 8,
   "metadata": {},
   "outputs": [
    {
     "data": {
      "text/plain": [
       "(array([ 0,  1,  2,  4,  5,  9, 10, 11, 13, 16, 20, 21, 22, 48],\n",
       "       dtype=int64),)"
      ]
     },
     "execution_count": 8,
     "metadata": {},
     "output_type": "execute_result"
    }
   ],
   "source": [
    "np.where(np.abs(beta_mean/beta_std)>1.96)"
   ]
  },
  {
   "cell_type": "code",
   "execution_count": 9,
   "metadata": {},
   "outputs": [
    {
     "data": {
      "text/plain": [
       "5.30386530983439"
      ]
     },
     "execution_count": 9,
     "metadata": {},
     "output_type": "execute_result"
    }
   ],
   "source": [
    "np.mean(lam_sample)"
   ]
  },
  {
   "cell_type": "code",
   "execution_count": 11,
   "metadata": {},
   "outputs": [],
   "source": [
    "np.save('beta2.npy',beta_sample)"
   ]
  },
  {
   "cell_type": "code",
   "execution_count": 12,
   "metadata": {},
   "outputs": [],
   "source": [
    "np.save('b2.npy',b_sample)"
   ]
  },
  {
   "cell_type": "code",
   "execution_count": 13,
   "metadata": {},
   "outputs": [],
   "source": [
    "np.save('cutpoints2.npy',cutpoints_sample)"
   ]
  },
  {
   "cell_type": "code",
   "execution_count": 14,
   "metadata": {},
   "outputs": [],
   "source": [
    "np.save('lam2.npy',lam_sample)"
   ]
  },
  {
   "cell_type": "code",
   "execution_count": null,
   "metadata": {},
   "outputs": [],
   "source": []
  }
 ],
 "metadata": {
  "kernelspec": {
   "display_name": "base",
   "language": "python",
   "name": "python3"
  },
  "language_info": {
   "codemirror_mode": {
    "name": "ipython",
    "version": 3
   },
   "file_extension": ".py",
   "mimetype": "text/x-python",
   "name": "python",
   "nbconvert_exporter": "python",
   "pygments_lexer": "ipython3",
   "version": "3.9.16"
  },
  "orig_nbformat": 4
 },
 "nbformat": 4,
 "nbformat_minor": 2
}
