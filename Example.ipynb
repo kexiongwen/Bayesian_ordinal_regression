{
 "cells": [
  {
   "cell_type": "code",
   "execution_count": 1,
   "metadata": {},
   "outputs": [],
   "source": [
    "import numpy as np\n",
    "from scipy.linalg import toeplitz\n",
    "from scipy.stats import logistic\n",
    "from BORR import Bayesian_Ordinal_CLM_PO"
   ]
  },
  {
   "cell_type": "code",
   "execution_count": 2,
   "metadata": {},
   "outputs": [],
   "source": [
    "N_train=360\n",
    "N_test=100\n",
    "Block_size=50\n",
    "P=500\n",
    "Q=100\n",
    "Corr=0.9**toeplitz(np.arange(0,Block_size),np.arange(0,Block_size))\n",
    "Corr_random=0.000001**toeplitz(np.arange(0,Q),np.arange(0,Q))\n",
    "Corr_b=0.2**toeplitz(np.arange(0,Q),np.arange(0,Q))\n",
    "\n",
    "np.random.seed(5041294)\n",
    "\n",
    "X_train=np.ones((N_train,P))\n",
    "X_test=np.ones((N_test,P))\n",
    "Y_train=np.ones((N_train,1))\n",
    "Y_test=np.ones((N_test,1))\n",
    "T_train=np.random.multivariate_normal(np.zeros(Q), Corr_random/Q, N_train)\n",
    "T_test=np.random.multivariate_normal(np.zeros(Q), Corr_random/Q, N_test)\n",
    "beta=np.zeros((P,1))\n",
    "error_train=logistic.rvs(loc=0, scale=1, size=N_train)\n",
    "error_test=logistic.rvs(loc=0, scale=1, size=N_test)\n",
    "#error_train=np.random.randn(N_train,1)\n",
    "#error_test=np.random.randn(N_test,1)\n",
    "\n",
    "for i in range(0,6):\n",
    "    \n",
    "    X_train[:,50*i:(50*(i+1))]=np.random.multivariate_normal(np.zeros(Block_size), Corr, N_train)\n",
    "    X_test[:,50*i:(50*(i+1))]=np.random.multivariate_normal(np.zeros(Block_size), Corr, N_test)\n",
    "\n",
    "beta[0]=-np.log(3)\n",
    "beta[30]=-np.log(3)\n",
    "beta[60]=-np.log(3)\n",
    "beta[90]=-np.log(3)\n",
    "beta[120]=-np.log(3)\n",
    "beta[150]=np.log(3)\n",
    "beta[180]=np.log(3)\n",
    "beta[210]=np.log(3)\n",
    "beta[240]=np.log(3)\n",
    "beta[270]=np.log(3)\n",
    "\n",
    "random_effect_train=np.zeros((N_train,1))\n",
    "random_effect_test=np.zeros((N_test,1))\n",
    "\n",
    "for i in range(0,N_train):\n",
    "    \n",
    "    random_effect_train[i]=T_train[i,]@(np.random.multivariate_normal(np.zeros(Q), Corr_b, 1).T)\n",
    "    \n",
    "for i in range(0,N_test):\n",
    "    \n",
    "    random_effect_test[i]=T_test[i,]@(np.random.multivariate_normal(np.zeros(Q), Corr_b, 1).T)\n",
    "    \n",
    "#random_effect_train=np.zeros((N_train,1))\n",
    "#random_effect_test=np.zeros((N_test,1))    \n",
    "     \n",
    "Z_train=X_train@beta+random_effect_train+error_train.reshape(N_train,1)\n",
    "Z_test=X_test@beta+random_effect_test+error_test.reshape(N_test,1)\n",
    "\n",
    "Y_train[Z_train>np.quantile(Z_train, 0.167)]=2\n",
    "Y_train[Z_train>np.quantile(Z_train, 0.333)]=3\n",
    "Y_train[Z_train>np.quantile(Z_train, 0.5)]=4\n",
    "Y_train[Z_train>np.quantile(Z_train, 0.667)]=5\n",
    "Y_train[Z_train>np.quantile(Z_train, 0.833)]=6\n",
    "\n",
    "Y_test[Z_test>np.quantile(Z_test, 0.167)]=2\n",
    "Y_test[Z_test>np.quantile(Z_test, 0.333)]=3\n",
    "Y_test[Z_test>np.quantile(Z_test, 0.5)]=4\n",
    "Y_test[Z_test>np.quantile(Z_test, 0.667)]=5\n",
    "Y_test[Z_test>np.quantile(Z_test, 0.833)]=6"
   ]
  },
  {
   "cell_type": "code",
   "execution_count": 3,
   "metadata": {},
   "outputs": [],
   "source": [
    "beta_sample,b_sample,cutpoints_sample=Bayesian_Ordinal_CLM_PO(Y_train,X_train,T_train)"
   ]
  },
  {
   "cell_type": "code",
   "execution_count": 4,
   "metadata": {},
   "outputs": [],
   "source": [
    "beta_mean=np.mean(beta_sample,axis=1)"
   ]
  },
  {
   "cell_type": "code",
   "execution_count": 16,
   "metadata": {},
   "outputs": [
    {
     "data": {
      "text/plain": [
       "array([-0.55810848, -0.51632061, -1.09348665, -0.44563244, -1.14614348,\n",
       "       -0.40605648,  0.59454806,  0.61926416,  0.64811042,  0.51503447,\n",
       "        0.91136733])"
      ]
     },
     "execution_count": 16,
     "metadata": {},
     "output_type": "execute_result"
    }
   ],
   "source": [
    "beta_mean[np.abs(beta_mean)/np.std(beta_sample,axis=1)>1.2]"
   ]
  },
  {
   "cell_type": "code",
   "execution_count": 15,
   "metadata": {},
   "outputs": [
    {
     "data": {
      "text/plain": [
       "(array([  0,   1,  30,  60,  90, 120, 150, 180, 210, 240, 270]),)"
      ]
     },
     "execution_count": 15,
     "metadata": {},
     "output_type": "execute_result"
    }
   ],
   "source": [
    "np.where(np.abs(beta_mean)/np.std(beta_sample,axis=1)>1.2)"
   ]
  },
  {
   "cell_type": "code",
   "execution_count": null,
   "metadata": {},
   "outputs": [],
   "source": []
  }
 ],
 "metadata": {
  "kernelspec": {
   "display_name": "base",
   "language": "python",
   "name": "python3"
  },
  "language_info": {
   "codemirror_mode": {
    "name": "ipython",
    "version": 3
   },
   "file_extension": ".py",
   "mimetype": "text/x-python",
   "name": "python",
   "nbconvert_exporter": "python",
   "pygments_lexer": "ipython3",
   "version": "3.9.13"
  },
  "orig_nbformat": 4
 },
 "nbformat": 4,
 "nbformat_minor": 2
}
