{
 "cells": [
  {
   "cell_type": "code",
   "execution_count": 1,
   "metadata": {},
   "outputs": [],
   "source": [
    "import numpy as np\n",
    "from BORR import Bayesian_Ordinal_CLM_PO\n",
    "import pandas as pd"
   ]
  },
  {
   "cell_type": "code",
   "execution_count": 2,
   "metadata": {},
   "outputs": [],
   "source": [
    "df=pd.read_csv('com.csv')"
   ]
  },
  {
   "cell_type": "code",
   "execution_count": 3,
   "metadata": {},
   "outputs": [],
   "source": [
    "#You should set the Q by yourself\n",
    "\n",
    "Data=df.to_numpy()\n",
    "X_train=Data[:,1:-2]\n",
    "Y_train=Data[:,0].reshape(-1,1)\n",
    "ink1=Data[:,-2]\n",
    "ink2=Data[:,-3]\n",
    "Q1=np.max(ink1)\n",
    "Q2=np.max(ink2)\n",
    "N,P=np.shape(X_train)\n",
    "T1=np.zeros((N,int(Q1)))\n",
    "T2=np.zeros((N,int(Q2)))\n",
    "\n",
    "for i in range(0,N):\n",
    "    T1[i,ink1[i].astype(int)-1]=1\n",
    "\n",
    "for i in range(0,N):\n",
    "    T2[i,ink2[i].astype(int)-1]=1\n",
    "\n",
    "T_train=np.copy(np.concatenate((T1,T2),axis=1))"
   ]
  },
  {
   "cell_type": "code",
   "execution_count": 4,
   "metadata": {},
   "outputs": [],
   "source": [
    "beta_sample,b_sample,cutpoints_sample=Bayesian_Ordinal_CLM_PO(Y_train,X_train,T_train,sparse_T=True)"
   ]
  },
  {
   "cell_type": "code",
   "execution_count": 9,
   "metadata": {},
   "outputs": [],
   "source": [
    "beta_mean=np.mean(beta_sample,axis=1)"
   ]
  },
  {
   "cell_type": "code",
   "execution_count": 10,
   "metadata": {},
   "outputs": [],
   "source": [
    "beta_std=np.std(beta_sample,axis=1)"
   ]
  },
  {
   "cell_type": "code",
   "execution_count": 12,
   "metadata": {},
   "outputs": [
    {
     "data": {
      "text/plain": [
       "(array([ 0,  1,  2,  3,  4,  5,  7,  9, 10, 11, 13, 16, 20, 21, 22, 48]),)"
      ]
     },
     "execution_count": 12,
     "metadata": {},
     "output_type": "execute_result"
    }
   ],
   "source": [
    "np.where(np.abs(beta_mean/beta_std)>1.96)"
   ]
  }
 ],
 "metadata": {
  "kernelspec": {
   "display_name": "base",
   "language": "python",
   "name": "python3"
  },
  "language_info": {
   "codemirror_mode": {
    "name": "ipython",
    "version": 3
   },
   "file_extension": ".py",
   "mimetype": "text/x-python",
   "name": "python",
   "nbconvert_exporter": "python",
   "pygments_lexer": "ipython3",
   "version": "3.9.13"
  },
  "orig_nbformat": 4
 },
 "nbformat": 4,
 "nbformat_minor": 2
}
